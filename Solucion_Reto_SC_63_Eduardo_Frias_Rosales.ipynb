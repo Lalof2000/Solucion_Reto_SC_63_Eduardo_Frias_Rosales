{
  "nbformat": 4,
  "nbformat_minor": 0,
  "metadata": {
    "colab": {
      "provenance": []
    },
    "kernelspec": {
      "name": "python3",
      "display_name": "Python 3"
    },
    "language_info": {
      "name": "python"
    }
  },
  "cells": [
    {
      "cell_type": "markdown",
      "source": [
        "Reto: Mercadotecnia telefónica con aprendizaje supervisado\n",
        "\n",
        "Act:DS_C6_SC3 Solucion_Reto_SC_63\n",
        "\n",
        "Eduardo Frias Rosales\n",
        "\n",
        "Introducción:  \n",
        "Los programas de telemarketing se han venido usando por las empresas durante años como una forma de comunicarse con clientes potenciales de manera directa por vía telefónica. En los últimos años el uso de las técnicas de inteligencia artificial ha permitido potencializar el impacto de estos programas de mercadotecnia.\n",
        "\n",
        "Un banco ha lanzado un nuevo plan de inversión a largo plazo a través de un programa de telemarketing y desea saber que tan exitoso se puede considerar este programa utilizando técnicas de aprendizaje supervisado. El programa es lanzado a clientes del banco, por lo que este estudio ayudará a optimizar los esfuerzos al conocer las características de los clientes más propensos a adquirir dicho plan de inversión.\n",
        "\n",
        " En la presente actividad tu objetivo es predecir si el entrevistado adquirirá el plan de inversión bancario de acuerdo con varias características que se conocen de dicho cliente.\n",
        "\n",
        "Objetivo:  \n",
        "\n",
        "Diseñar e implementar un modelo de aprendizaje supervisado que pueda predecir si una persona adquiere o no un plan de inversión bancaria a través de una entrevista telefónica."
      ],
      "metadata": {
        "id": "6_vJFqHpGYVI"
      }
    },
    {
      "cell_type": "code",
      "source": [
        "import pandas as pd\n",
        "import numpy as np\n",
        "from google.colab import drive\n",
        "\n",
        "# Carga los datos del archivo CSV\n",
        "data = pd.read_csv('/content/drive/MyDrive/Colab Notebooks/data/Aprendizaje supervisado/bank_marketing_RETO_DS_AS.csv')\n",
        "\n",
        "# Imprime las primeras filas del DataFrame\n",
        "print(data.head())\n",
        "\n",
        "# Obtener el número de registros\n",
        "num_registros = data.shape[0]\n",
        "\n",
        "# Obtener el total de variables\n",
        "num_variables = data.shape[1]\n",
        "\n",
        "# Obtener el tipo de cada variable\n",
        "tipos_variables = data.dtypes\n",
        "\n",
        "# Obtener la cantidad de datos perdidos de cada variable\n",
        "datos_perdidos = data.isnull().sum()\n",
        "\n",
        "# Imprimir la información\n",
        "print(f\"\\nNúmero de registros: {num_registros}\")\n",
        "print(f\"Total de variables: {num_variables}\")\n",
        "print(\"\\nTipo de cada variable:\")\n",
        "print(tipos_variables)\n",
        "print(\"\\nCantidad de datos perdidos por variable:\")\n",
        "print(datos_perdidos)"
      ],
      "metadata": {
        "colab": {
          "base_uri": "https://localhost:8080/"
        },
        "id": "yiC6FrBUH0Aj",
        "outputId": "1f5e2991-9137-4103-ee53-3718387d9082"
      },
      "execution_count": 30,
      "outputs": [
        {
          "output_type": "stream",
          "name": "stdout",
          "text": [
            "   age            job  marital  education default  balance housing loan  \\\n",
            "0   31  self-employed  married   tertiary      no     2666      no   no   \n",
            "1   29     unemployed   single    unknown      no     1584      no   no   \n",
            "2   41    blue-collar  married  secondary      no     2152     yes   no   \n",
            "3   50    blue-collar  married  secondary      no       84     yes   no   \n",
            "4   40         admin.  married  secondary      no        0      no   no   \n",
            "\n",
            "    contact  day month  duration  campaign  pdays  previous poutcome    y  \n",
            "0  cellular   10   nov       318         2     97         6  success  yes  \n",
            "1  cellular    6   sep       245         1     -1         0  unknown  yes  \n",
            "2  cellular   17   nov       369         1     -1         0  unknown   no  \n",
            "3  cellular   17   jul        18         8     -1         0  unknown   no  \n",
            "4  cellular   28   jul       496         2    182        11  success  yes  \n",
            "\n",
            "Número de registros: 9000\n",
            "Total de variables: 17\n",
            "\n",
            "Tipo de cada variable:\n",
            "age           int64\n",
            "job          object\n",
            "marital      object\n",
            "education    object\n",
            "default      object\n",
            "balance       int64\n",
            "housing      object\n",
            "loan         object\n",
            "contact      object\n",
            "day           int64\n",
            "month        object\n",
            "duration      int64\n",
            "campaign      int64\n",
            "pdays         int64\n",
            "previous      int64\n",
            "poutcome     object\n",
            "y            object\n",
            "dtype: object\n",
            "\n",
            "Cantidad de datos perdidos por variable:\n",
            "age          0\n",
            "job          0\n",
            "marital      0\n",
            "education    0\n",
            "default      0\n",
            "balance      0\n",
            "housing      0\n",
            "loan         0\n",
            "contact      0\n",
            "day          0\n",
            "month        0\n",
            "duration     0\n",
            "campaign     0\n",
            "pdays        0\n",
            "previous     0\n",
            "poutcome     0\n",
            "y            0\n",
            "dtype: int64\n"
          ]
        }
      ]
    },
    {
      "cell_type": "code",
      "source": [
        "#6.\tTransforma las variables categóricas de manera que puedan ser tratadas numéricamente. Justifica si utilizas LabelEncoder o OneHotEcoder.\n",
        "\n",
        "from sklearn.preprocessing import LabelEncoder, OneHotEncoder\n",
        "\n",
        "# Seleccionar las variables categóricas\n",
        "categorical_features = data.select_dtypes(include=['object']).columns\n",
        "\n",
        "# Aplicar LabelEncoder o OneHotEncoder según corresponda\n",
        "for feature in categorical_features:\n",
        "  # Si la variable tiene pocas categorías (ej. binaria o con pocas opciones), usar LabelEncoder\n",
        "  if data[feature].nunique() <= 2:\n",
        "    le = LabelEncoder()\n",
        "    data[feature] = le.fit_transform(data[feature])\n",
        "  # Si la variable tiene muchas categorías, usar OneHotEncoder\n",
        "  else:\n",
        "    ohe = OneHotEncoder(handle_unknown='ignore', sparse_output=False)\n",
        "    encoded_data = ohe.fit_transform(data[[feature]])\n",
        "    encoded_df = pd.DataFrame(encoded_data, columns=ohe.get_feature_names_out([feature]))\n",
        "    data = pd.concat([data, encoded_df], axis=1)\n",
        "    data = data.drop(feature, axis=1)\n",
        "\n",
        "print(data.head())"
      ],
      "metadata": {
        "id": "0NFJjfqIJBRN",
        "colab": {
          "base_uri": "https://localhost:8080/"
        },
        "outputId": "b7fa135f-e77b-4d7c-b27a-027bfeb241bb"
      },
      "execution_count": 31,
      "outputs": [
        {
          "output_type": "stream",
          "name": "stdout",
          "text": [
            "   age  default  balance  housing  loan  day  duration  campaign  pdays  \\\n",
            "0   31        0     2666        0     0   10       318         2     97   \n",
            "1   29        0     1584        0     0    6       245         1     -1   \n",
            "2   41        0     2152        1     0   17       369         1     -1   \n",
            "3   50        0       84        1     0   17        18         8     -1   \n",
            "4   40        0        0        0     0   28       496         2    182   \n",
            "\n",
            "   previous  ...  month_jun  month_mar  month_may  month_nov  month_oct  \\\n",
            "0         6  ...        0.0        0.0        0.0        1.0        0.0   \n",
            "1         0  ...        0.0        0.0        0.0        0.0        0.0   \n",
            "2         0  ...        0.0        0.0        0.0        1.0        0.0   \n",
            "3         0  ...        0.0        0.0        0.0        0.0        0.0   \n",
            "4        11  ...        0.0        0.0        0.0        0.0        0.0   \n",
            "\n",
            "   month_sep  poutcome_failure  poutcome_other  poutcome_success  \\\n",
            "0        0.0               0.0             0.0               1.0   \n",
            "1        1.0               0.0             0.0               0.0   \n",
            "2        0.0               0.0             0.0               0.0   \n",
            "3        0.0               0.0             0.0               0.0   \n",
            "4        0.0               0.0             0.0               1.0   \n",
            "\n",
            "   poutcome_unknown  \n",
            "0               0.0  \n",
            "1               1.0  \n",
            "2               1.0  \n",
            "3               1.0  \n",
            "4               0.0  \n",
            "\n",
            "[5 rows x 49 columns]\n"
          ]
        }
      ]
    },
    {
      "source": [
        "#7.\tTransforma las variables numéricas en los casos que se tenga algún tipo de sesgo.\n",
        "# Importar la librería necesaria para la transformación de datos\n",
        "from sklearn.preprocessing import PowerTransformer\n",
        "\n",
        "# Identificar variables numéricas con sesgo\n",
        "# Calcula la asimetría de cada variable numérica:\n",
        "numeric_features = data.select_dtypes(include=['number']).columns\n",
        "skewness = data[numeric_features].skew()\n",
        "print(\"Asimetría de las variables numéricas:\\n\", skewness)\n",
        "\n",
        "# Selecciona las variables con un alto grado de asimetría (skewness > 0.5)\n",
        "skewed_features = skewness[abs(skewness) > 0.5].index\n",
        "\n",
        "# Aplica la transformación Box-Cox o Yeo-Johnson a las variables con sesgo\n",
        "for feature in skewed_features:\n",
        "  # Si la variable tiene valores negativos, usar Yeo-Johnson\n",
        "  if data[feature].min() <= 0:\n",
        "    transformer = PowerTransformer(method='yeo-johnson')\n",
        "  # Si la variable tiene solo valores positivos, usar Box-Cox\n",
        "  else:\n",
        "    transformer = PowerTransformer(method='box-cox')\n",
        "  data[feature] = transformer.fit_transform(data[[feature]])\n",
        "\n",
        "print(data.head())"
      ],
      "cell_type": "code",
      "metadata": {
        "colab": {
          "base_uri": "https://localhost:8080/"
        },
        "id": "jCms_odPYPi_",
        "outputId": "8e33eaae-9443-4500-9f81-fe5b2eb92d6e"
      },
      "execution_count": 32,
      "outputs": [
        {
          "output_type": "stream",
          "name": "stdout",
          "text": [
            "Asimetría de las variables numéricas:\n",
            " age                     0.801429\n",
            "default                 7.981424\n",
            "balance                 7.280036\n",
            "housing                 0.028452\n",
            "loan                    2.186231\n",
            "day                     0.117315\n",
            "duration                2.184045\n",
            "campaign                5.392712\n",
            "pdays                   2.349177\n",
            "previous                7.682286\n",
            "y                       0.320997\n",
            "job_admin.              2.468144\n",
            "job_blue-collar         1.601081\n",
            "job_entrepreneur        5.863734\n",
            "job_housemaid           5.798679\n",
            "job_management          1.337302\n",
            "job_retired             3.496606\n",
            "job_self-employed       5.025767\n",
            "job_services            2.961379\n",
            "job_student             5.088290\n",
            "job_technician          1.805352\n",
            "job_unemployed          5.298786\n",
            "job_unknown            13.173235\n",
            "marital_divorced        2.407201\n",
            "marital_married        -0.280085\n",
            "marital_single          0.795553\n",
            "education_primary       2.096803\n",
            "education_secondary     0.006223\n",
            "education_tertiary      0.764769\n",
            "education_unknown       4.574207\n",
            "contact_cellular       -0.954533\n",
            "contact_telephone       3.548284\n",
            "contact_unknown         1.350516\n",
            "month_apr               3.133428\n",
            "month_aug               2.119980\n",
            "month_dec               9.795065\n",
            "month_feb               3.637083\n",
            "month_jan               5.308902\n",
            "month_jul               2.039915\n",
            "month_jun               2.434722\n",
            "month_mar               6.348726\n",
            "month_may               1.080722\n",
            "month_nov               3.088473\n",
            "month_oct               5.268741\n",
            "month_sep               5.958193\n",
            "poutcome_failure        2.464587\n",
            "poutcome_other          4.179176\n",
            "poutcome_success        2.963916\n",
            "poutcome_unknown       -1.177645\n",
            "dtype: float64\n",
            "        age   default   balance  housing      loan  day  duration  campaign  \\\n",
            "0 -0.878882 -0.123404  0.552547        0 -0.388452   10  0.253025  0.313048   \n",
            "1 -1.138475 -0.123404  0.188271        0 -0.388452    6 -0.029606 -1.068521   \n",
            "2  0.164669 -0.123404  0.383536        1 -0.388452   17  0.419292 -1.068521   \n",
            "3  0.863455 -0.123404 -0.429160        1 -0.388452   17 -2.321180  1.723508   \n",
            "4  0.075336 -0.123404 -0.488004        0 -0.388452   28  0.761244  0.313048   \n",
            "\n",
            "      pdays  previous  ...  month_jun  month_mar  month_may  month_nov  \\\n",
            "0  1.711403  1.892630  ...  -0.358111  -0.153811  -0.596344   3.383509   \n",
            "1 -0.571444 -0.570504  ...  -0.358111  -0.153811  -0.596344  -0.295551   \n",
            "2 -0.571444 -0.570504  ...  -0.358111  -0.153811  -0.596344   3.383509   \n",
            "3 -0.571444 -0.570504  ...  -0.358111  -0.153811  -0.596344  -0.295551   \n",
            "4  1.761530  1.901770  ...  -0.358111  -0.153811  -0.596344  -0.295551   \n",
            "\n",
            "   month_oct  month_sep  poutcome_failure  poutcome_other  poutcome_success  \\\n",
            "0  -0.183442  -0.163383         -0.354746       -0.226991          3.269298   \n",
            "1  -0.183442   6.120583         -0.354746       -0.226991         -0.305876   \n",
            "2  -0.183442  -0.163383         -0.354746       -0.226991         -0.305876   \n",
            "3  -0.183442  -0.163383         -0.354746       -0.226991         -0.305876   \n",
            "4  -0.183442  -0.163383         -0.354746       -0.226991          3.269298   \n",
            "\n",
            "   poutcome_unknown  \n",
            "0         -1.749154  \n",
            "1          0.571705  \n",
            "2          0.571705  \n",
            "3          0.571705  \n",
            "4         -1.749154  \n",
            "\n",
            "[5 rows x 49 columns]\n"
          ]
        }
      ]
    },
    {
      "cell_type": "code",
      "source": [
        "from sklearn.model_selection import train_test_split\n",
        "from sklearn.linear_model import LogisticRegression\n",
        "from sklearn.metrics import confusion_matrix, accuracy_score\n",
        "\n",
        "# 8. Considera la variable “y” como la variable de salida y el resto de las variables como las variables de entrada.\n",
        "X = data.drop('y', axis=1)\n",
        "y = data['y']\n",
        "\n",
        "# 9. Particiona los datos en los conjuntos de entrenamiento, validación y prueba en 60%, 20% y 20%, respectivamente.\n",
        "X_train, X_temp, y_train, y_temp = train_test_split(X, y, test_size=0.4, random_state=42)\n",
        "X_val, X_test, y_val, y_test = train_test_split(X_temp, y_temp, test_size=0.5, random_state=42)\n",
        "\n",
        "print(f\"Tamaño del conjunto de entrenamiento: {X_train.shape[0]}\")\n",
        "print(f\"Tamaño del conjunto de validación: {X_val.shape[0]}\")\n",
        "print(f\"Tamaño del conjunto de prueba: {X_test.shape[0]}\")\n",
        "\n",
        "# 10. Aplica el modelo Regresión Logística en el conjunto de entrenamiento.\n",
        "model = LogisticRegression(max_iter=1000, random_state=42)\n",
        "model.fit(X_train, y_train)\n",
        "\n",
        "# Valida el modelo con las predicciones del conjunto de validación.\n",
        "y_pred = model.predict(X_val)\n",
        "\n",
        "# Calcula la matriz de confusión.\n",
        "conf_matrix = confusion_matrix(y_val, y_pred)\n",
        "accuracy = accuracy_score(y_val, y_pred)\n",
        "\n",
        "print(\"\\nMatriz de confusión en validación:\")\n",
        "print(conf_matrix)\n",
        "print(f\"\\nPrecisión del modelo: {accuracy * 100:.2f}%\")\n"
      ],
      "metadata": {
        "colab": {
          "base_uri": "https://localhost:8080/"
        },
        "id": "6GwXX7RBZwAZ",
        "outputId": "d4c3158b-bc7b-4a60-f057-d83f82cd220a"
      },
      "execution_count": 40,
      "outputs": [
        {
          "output_type": "stream",
          "name": "stdout",
          "text": [
            "Tamaño del conjunto de entrenamiento: 5400\n",
            "Tamaño del conjunto de validación: 1800\n",
            "Tamaño del conjunto de prueba: 1800\n",
            "\n",
            "Matriz de confusión en validación:\n",
            "[[904 154]\n",
            " [167 575]]\n",
            "\n",
            "Precisión del modelo: 82.17%\n"
          ]
        }
      ]
    },
    {
      "cell_type": "code",
      "source": [
        "# 11.\tAplica el modelo Red Neuronal en el conjunto de entrenamiento. Valida el modelo con las predicciones del conjunto de validación y su matriz de confusión. Ajusta los parámetros del modelo hasta obtener tu mejor modelo, entre ellos el número de neuronas y capas ocultas.\n",
        "\n",
        "from sklearn.neural_network import MLPClassifier\n",
        "\n",
        "# Define el modelo de Red Neuronal\n",
        "model_nn = MLPClassifier(hidden_layer_sizes=(100, 50),\n",
        "                         max_iter=500,\n",
        "                         activation='relu',\n",
        "                         solver='adam',\n",
        "                         random_state=42)\n",
        "\n",
        "# Entrena el modelo con los datos de entrenamiento\n",
        "model_nn.fit(X_train, y_train)\n",
        "\n",
        "# Realiza predicciones en el conjunto de validación\n",
        "y_pred_nn = model_nn.predict(X_val)\n",
        "\n",
        "# Calcula la matriz de confusión\n",
        "confusion_mat_nn = confusion_matrix(y_val, y_pred_nn)\n",
        "accuracy_nn = accuracy_score(y_val, y_pred_nn)\n",
        "\n",
        "print(\"Matriz de confusión en validación (Red Neuronal):\")\n",
        "print(confusion_mat_nn)\n",
        "print(f\"\\nPrecisión del modelo (Red Neuronal): {accuracy_nn * 100:.2f}%\")\n"
      ],
      "metadata": {
        "colab": {
          "base_uri": "https://localhost:8080/"
        },
        "id": "A0QPh_rkaYt9",
        "outputId": "629dda0d-bceb-479d-b49b-70656b02ad2f"
      },
      "execution_count": 41,
      "outputs": [
        {
          "output_type": "stream",
          "name": "stdout",
          "text": [
            "Matriz de confusión en validación (Red Neuronal):\n",
            "[[893 165]\n",
            " [189 553]]\n",
            "\n",
            "Precisión del modelo (Red Neuronal): 80.33%\n"
          ]
        }
      ]
    },
    {
      "cell_type": "code",
      "source": [
        "# Selecciona el mejor modelo (Regresion Logística en este caso con random_state=42)\n",
        "mejor_modelo = model if accuracy > accuracy_nn else model_nn\n",
        "\n",
        "# Realiza predicciones en el conjunto de prueba\n",
        "y_test_pred = mejor_modelo.predict(X_test)\n",
        "\n",
        "# Matriz de confusión en el conjunto de prueba\n",
        "conf_matrix_test = confusion_matrix(y_test, y_test_pred)\n",
        "accuracy_test = accuracy_score(y_test, y_test_pred)\n",
        "\n",
        "print(\"Matriz de confusión en prueba:\")\n",
        "print(conf_matrix_test)\n",
        "print(f\"\\nPrecisión final del modelo: {accuracy_test * 100:.2f}%\")\n"
      ],
      "metadata": {
        "colab": {
          "base_uri": "https://localhost:8080/"
        },
        "id": "OL7Qlm_maxjR",
        "outputId": "44bc98b4-6239-454d-b8dc-4c2604586bb6"
      },
      "execution_count": 43,
      "outputs": [
        {
          "output_type": "stream",
          "name": "stdout",
          "text": [
            "Matriz de confusión en prueba:\n",
            "[[865 140]\n",
            " [166 629]]\n",
            "\n",
            "Precisión final del modelo: 83.00%\n"
          ]
        }
      ]
    },
    {
      "cell_type": "markdown",
      "source": [
        "Conclusión:\n",
        "13.\tIncluye tus conclusiones del problema, en particular, ¿qué puedes decir acerca del uso de técnicas de inteligencia artificial en problemas de mercadotecnia?\n",
        "\n",
        "El uso de estos algoritmos como la Regresión Logística y las Redes Neuronales permitió predecir con precisión si un cliente realizará una acción específica, lo que optimiza las estrategias de marketing al segmentar audiencias y focalizar esfuerzos en los clientes con más probabilidad de éxito. Estas técnicas mejoran la toma de decisiones basada en datos, permiten manejar grandes volúmenes de información y ajustarse a las necesidades del negocio."
      ],
      "metadata": {
        "id": "CJMJwPF4ggAb"
      }
    }
  ]
}